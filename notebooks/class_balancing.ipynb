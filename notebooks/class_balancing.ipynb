{
 "cells": [
  {
   "cell_type": "code",
   "execution_count": 1,
   "metadata": {},
   "outputs": [],
   "source": [
    "import seaborn as sns\n",
    "import os\n",
    "import matplotlib.pyplot as plt\n",
    "from tensorflow.keras.preprocessing.image import ImageDataGenerator, array_to_img, img_to_array, load_img\n",
    "\n",
    "import numpy as np\n",
    "from numpy import expand_dims\n",
    "import random"
   ]
  },
  {
   "cell_type": "code",
   "execution_count": 2,
   "metadata": {},
   "outputs": [],
   "source": [
    "#This block is what will be used to generate a new image\n",
    "#using the respective parameters\n",
    "\n",
    "datagen = ImageDataGenerator(\n",
    "        rotation_range = 180,\n",
    "        width_shift_range = 0.2,\n",
    "        height_shift_range = 0.2,\n",
    "        shear_range = 0.2,\n",
    "        zoom_range = 0.2,\n",
    "        horizontal_flip = True,\n",
    "        fill_mode = 'nearest')"
   ]
  },
  {
   "cell_type": "code",
   "execution_count": 3,
   "metadata": {},
   "outputs": [],
   "source": [
    "#This function takes in the number of images that need to be created\n",
    "#to balance a class and the name of the class\n",
    "\n",
    "def generate_data(number_of_images, which_class):\n",
    "    for i in range(0, number_of_images):\n",
    "        rand = random.choice([x for x in os.listdir(f'data/tomato/{which_class}')]) #Picks random image to use as base image\n",
    "        img = load_img(f'data/tomato/{which_class}/{rand}') #Loads the selected image\n",
    "        x = img_to_array(img) #converts the image to an array\n",
    "        x = x.reshape((1,) + x.shape) #reshapes the image\n",
    "        for batch in datagen.flow(x, batch_size = 1, #augments and saves the image as a new jpeg image\n",
    "                                  save_to_dir = f'augmented_data/{which_class}', \n",
    "                                  save_prefix = f'{which_class}{i}', \n",
    "                                  save_format = 'jpeg'):\n",
    "            break"
   ]
  },
  {
   "cell_type": "markdown",
   "metadata": {},
   "source": [
    "### Visualizing Current Class Imbalance"
   ]
  },
  {
   "cell_type": "code",
   "execution_count": 4,
   "metadata": {},
   "outputs": [],
   "source": [
    "#Established directory which I will look in\n",
    "\n",
    "directory = 'data/tomato'"
   ]
  },
  {
   "cell_type": "code",
   "execution_count": 5,
   "metadata": {},
   "outputs": [],
   "source": [
    "#Countrs the number of images in each class\n",
    "\n",
    "class_counts = []\n",
    "\n",
    "for i in os.listdir(directory):\n",
    "    class_counts.append(len(os.listdir(directory + '/' + i)))"
   ]
  },
  {
   "cell_type": "code",
   "execution_count": 6,
   "metadata": {},
   "outputs": [
    {
     "data": {
      "text/plain": [
       "[2127, 1000, 1591, 1909, 952, 1771, 373, 1676, 1404, 5357]"
      ]
     },
     "execution_count": 6,
     "metadata": {},
     "output_type": "execute_result"
    }
   ],
   "source": [
    "class_counts"
   ]
  },
  {
   "cell_type": "code",
   "execution_count": 7,
   "metadata": {},
   "outputs": [],
   "source": [
    "#List of all the classes\n",
    "\n",
    "classes = os.listdir(directory)"
   ]
  },
  {
   "cell_type": "code",
   "execution_count": 8,
   "metadata": {},
   "outputs": [
    {
     "data": {
      "image/png": "[encoded data removed]",
      "text/plain": [
       "<Figure size 432x288 with 1 Axes>"
      ]
     },
     "metadata": {
      "needs_background": "light"
     },
     "output_type": "display_data"
    }
   ],
   "source": [
    "#creates a barplot comparing the coutns of each class\n",
    "\n",
    "sns.barplot(x = class_counts, y = classes)\n",
    "plt.title('Class Counts');\n",
    "\n",
    "\n",
    "#Saving the image\n",
    "\n",
    "plt.savefig('class_counts.jpg')"
   ]
  },
  {
   "cell_type": "markdown",
   "metadata": {},
   "source": [
    "### Generating Data To Balance Classes"
   ]
  },
  {
   "cell_type": "code",
   "execution_count": 144,
   "metadata": {
    "scrolled": true
   },
   "outputs": [],
   "source": [
    "#This how many augmented images need to be added to each class to have balanced classes\n",
    "\n",
    "diffs = [3000 - x for x in class_counts]"
   ]
  },
  {
   "cell_type": "code",
   "execution_count": 147,
   "metadata": {},
   "outputs": [],
   "source": [
    "#This for loop goes through each class except the last one\n",
    "#(because the last one doesn't need any more data) and generates\n",
    "#the necessary amount of images to bring the number of images to 3000\n",
    "\n",
    "for i in range(0,9):\n",
    "    generate_data(diffs[i], classes[i])"
   ]
  }
 ],
 "metadata": {
  "kernelspec": {
   "display_name": "Python 3",
   "language": "python",
   "name": "python3"
  },
  "language_info": {
   "codemirror_mode": {
    "name": "ipython",
    "version": 3
   },
   "file_extension": ".py",
   "mimetype": "text/x-python",
   "name": "python",
   "nbconvert_exporter": "python",
   "pygments_lexer": "ipython3",
   "version": "3.8.5"
  }
 },
 "nbformat": 4,
 "nbformat_minor": 4
}
