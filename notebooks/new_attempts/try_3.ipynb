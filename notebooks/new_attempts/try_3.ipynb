{
 "cells": [
  {
   "cell_type": "code",
   "execution_count": 54,
   "metadata": {},
   "outputs": [
    {
     "name": "stdout",
     "output_type": "stream",
     "text": [
      "Collecting efficientnet\n",
      "  Downloading efficientnet-1.1.1-py3-none-any.whl (18 kB)\n",
      "Collecting keras-applications<=1.0.8,>=1.0.7\n",
      "  Downloading Keras_Applications-1.0.8-py3-none-any.whl (50 kB)\n",
      "\u001b[K     |████████████████████████████████| 50 kB 5.0 MB/s eta 0:00:011\n",
      "\u001b[?25hRequirement already satisfied: scikit-image in /opt/conda/lib/python3.7/site-packages (from efficientnet) (0.18.1)\n",
      "Requirement already satisfied: numpy>=1.9.1 in /opt/conda/lib/python3.7/site-packages (from keras-applications<=1.0.8,>=1.0.7->efficientnet) (1.19.5)\n",
      "Requirement already satisfied: h5py in /opt/conda/lib/python3.7/site-packages (from keras-applications<=1.0.8,>=1.0.7->efficientnet) (2.10.0)\n",
      "Requirement already satisfied: six in /opt/conda/lib/python3.7/site-packages (from h5py->keras-applications<=1.0.8,>=1.0.7->efficientnet) (1.15.0)\n",
      "Requirement already satisfied: pillow!=7.1.0,!=7.1.1,>=4.3.0 in /opt/conda/lib/python3.7/site-packages (from scikit-image->efficientnet) (8.1.0)\n",
      "Requirement already satisfied: networkx>=2.0 in /opt/conda/lib/python3.7/site-packages (from scikit-image->efficientnet) (2.5)\n",
      "Requirement already satisfied: tifffile>=2019.7.26 in /opt/conda/lib/python3.7/site-packages (from scikit-image->efficientnet) (2021.2.26)\n",
      "Requirement already satisfied: imageio>=2.3.0 in /opt/conda/lib/python3.7/site-packages (from scikit-image->efficientnet) (2.9.0)\n",
      "Requirement already satisfied: matplotlib!=3.0.0,>=2.0.0 in /opt/conda/lib/python3.7/site-packages (from scikit-image->efficientnet) (3.3.4)\n",
      "Requirement already satisfied: PyWavelets>=1.1.1 in /opt/conda/lib/python3.7/site-packages (from scikit-image->efficientnet) (1.1.1)\n",
      "Requirement already satisfied: scipy>=1.0.1 in /opt/conda/lib/python3.7/site-packages (from scikit-image->efficientnet) (1.6.0)\n",
      "Requirement already satisfied: cycler>=0.10 in /opt/conda/lib/python3.7/site-packages (from matplotlib!=3.0.0,>=2.0.0->scikit-image->efficientnet) (0.10.0)\n",
      "Requirement already satisfied: kiwisolver>=1.0.1 in /opt/conda/lib/python3.7/site-packages (from matplotlib!=3.0.0,>=2.0.0->scikit-image->efficientnet) (1.3.1)\n",
      "Requirement already satisfied: pyparsing!=2.0.4,!=2.1.2,!=2.1.6,>=2.0.3 in /opt/conda/lib/python3.7/site-packages (from matplotlib!=3.0.0,>=2.0.0->scikit-image->efficientnet) (2.4.7)\n",
      "Requirement already satisfied: python-dateutil>=2.1 in /opt/conda/lib/python3.7/site-packages (from matplotlib!=3.0.0,>=2.0.0->scikit-image->efficientnet) (2.8.1)\n",
      "Requirement already satisfied: decorator>=4.3.0 in /opt/conda/lib/python3.7/site-packages (from networkx>=2.0->scikit-image->efficientnet) (4.4.2)\n",
      "Installing collected packages: keras-applications, efficientnet\n",
      "Successfully installed efficientnet-1.1.1 keras-applications-1.0.8\n"
     ]
    }
   ],
   "source": [
    "#I installe efficientnet for one of my tests but it did not perform well so it is not needed\n",
    "#source: https://keras.io/api/applications/efficientnet/\n",
    "\n",
    "!pip install efficientnet"
   ]
  },
  {
   "cell_type": "markdown",
   "metadata": {},
   "source": [
    "### Importing Libraries"
   ]
  },
  {
   "cell_type": "code",
   "execution_count": 15,
   "metadata": {},
   "outputs": [],
   "source": [
    "import matplotlib.pyplot as plt\n",
    "import numpy as np\n",
    "import tensorflow as tf\n",
    "import pandas as pd\n",
    "\n",
    "from tensorflow import keras\n",
    "from tensorflow.keras import layers\n",
    "from tensorflow.keras.models import Sequential\n",
    "\n",
    "import efficientnet.tfkeras as efn\n",
    "from tensorflow.keras.regularizers import l2\n",
    "\n",
    "\n",
    "import requests"
   ]
  },
  {
   "cell_type": "markdown",
   "metadata": {},
   "source": [
    "### Functions section"
   ]
  },
  {
   "cell_type": "code",
   "execution_count": 16,
   "metadata": {},
   "outputs": [],
   "source": [
    "#This function will send me a message ont elegram when the neural network is done fitting\n",
    "\n",
    "\n",
    "def telegram_bot_sendtext(bot_message):\n",
    "    bot_token = '1653403779:AAFxxs8vLirSm-nXejEvmHpBoASuZOO75D8'\n",
    "    bot_chatID = '1589422433'\n",
    "    send_text = 'https://api.telegram.org/bot' + bot_token + '/sendMessage?chat_id=' + bot_chatID + \\\n",
    "                '&parse_mode=MarkdownV2&text=' + bot_message\n",
    "    response = requests.get(send_text)\n",
    "    \n",
    "    return response.json"
   ]
  },
  {
   "cell_type": "markdown",
   "metadata": {},
   "source": [
    "### Data Set-up"
   ]
  },
  {
   "cell_type": "code",
   "execution_count": 17,
   "metadata": {},
   "outputs": [],
   "source": [
    "##setting the directory from which I want to get my data\n",
    "\n",
    "data_dir = '../data/layer'"
   ]
  },
  {
   "cell_type": "code",
   "execution_count": 18,
   "metadata": {},
   "outputs": [],
   "source": [
    "#Setting the batch size\n",
    "\n",
    "batch_size = 256\n",
    "\n",
    "#The height and width of each of my images in 256 picels so I will hard code that\n",
    "\n",
    "img_height = 256\n",
    "img_width = 256"
   ]
  },
  {
   "cell_type": "markdown",
   "metadata": {},
   "source": [
    "### Train, test, splitting"
   ]
  },
  {
   "cell_type": "code",
   "execution_count": 19,
   "metadata": {},
   "outputs": [
    {
     "name": "stdout",
     "output_type": "stream",
     "text": [
      "Found 18124 files belonging to 10 classes.\n",
      "Using 14500 files for training.\n"
     ]
    }
   ],
   "source": [
    "#Setting training set to 80% of my data\n",
    "#I'm using the batch_size, img_height, img_width\n",
    "\n",
    "train_ds = tf.keras.preprocessing.image_dataset_from_directory(\n",
    "  data_dir,\n",
    "  validation_split=0.2,\n",
    "  subset=\"training\",\n",
    "  seed=123,\n",
    "  image_size=(img_height, img_width),\n",
    "  batch_size=batch_size)"
   ]
  },
  {
   "cell_type": "code",
   "execution_count": 20,
   "metadata": {},
   "outputs": [
    {
     "name": "stdout",
     "output_type": "stream",
     "text": [
      "Found 18124 files belonging to 10 classes.\n",
      "Using 3624 files for validation.\n"
     ]
    }
   ],
   "source": [
    "#Setting testing set to be 20% of my data\n",
    "\n",
    "val_ds = tf.keras.preprocessing.image_dataset_from_directory(\n",
    "  data_dir,\n",
    "  validation_split=0.2,\n",
    "  subset=\"validation\",\n",
    "  seed=123,\n",
    "  image_size=(img_height, img_width),\n",
    "  batch_size=batch_size)"
   ]
  },
  {
   "cell_type": "code",
   "execution_count": 21,
   "metadata": {},
   "outputs": [
    {
     "name": "stdout",
     "output_type": "stream",
     "text": [
      "['bacterial_spot', 'early_blight', 'healthy', 'late_blight', 'leaf_mold', 'leaf_septoria', 'mosaic_virus', 'spider_mites', 'target_spot', 'yellow_leaf_curl_virus']\n"
     ]
    }
   ],
   "source": [
    "class_names = train_ds.class_names\n",
    "print(class_names)"
   ]
  },
  {
   "cell_type": "code",
   "execution_count": 22,
   "metadata": {},
   "outputs": [],
   "source": [
    "num_classes = 10"
   ]
  },
  {
   "cell_type": "markdown",
   "metadata": {},
   "source": [
    "### Layer Set-up For Model"
   ]
  },
  {
   "cell_type": "code",
   "execution_count": 23,
   "metadata": {},
   "outputs": [],
   "source": [
    "#This is the layer that will augment the data so I have mroe images to work from\n",
    "#The code flips horizontally, does a random rotation, and random zoom\n",
    "\n",
    "data_augmentation = keras.Sequential(\n",
    "  [\n",
    "    layers.experimental.preprocessing.RandomFlip(\"horizontal\", \n",
    "                                                 input_shape=(img_height, \n",
    "                                                              img_width,\n",
    "                                                              3)),\n",
    "    layers.experimental.preprocessing.RandomRotation(0.1),\n",
    "    layers.experimental.preprocessing.RandomZoom(0.1),\n",
    "  ]\n",
    ")"
   ]
  },
  {
   "cell_type": "code",
   "execution_count": 56,
   "metadata": {},
   "outputs": [
    {
     "name": "stdout",
     "output_type": "stream",
     "text": [
      "Downloading data from https://github.com/Callidior/keras-applications/releases/download/efficientnet/efficientnet-b0_weights_tf_dim_ordering_tf_kernels_autoaugment_notop.h5\n",
      "16809984/16804768 [==============================] - 1s 0us/step\n"
     ]
    }
   ],
   "source": [
    "# efficient = efn.EfficientNetB0(weights='imagenet', include_top=False, \n",
    "#                        input_shape=(256, 256, 3))\n",
    "\n",
    "# for layer in efficient.layers[:]:\n",
    "#     layer.trainable = False"
   ]
  },
  {
   "cell_type": "code",
   "execution_count": 16,
   "metadata": {},
   "outputs": [],
   "source": [
    "#Building my model topology\n",
    "\n",
    "model = Sequential([\n",
    "  #First layer augments the data\n",
    "  data_augmentation,\n",
    "  #efficient,\n",
    "  #This layer rescales all pixels\n",
    "  layers.experimental.preprocessing.Rescaling(1./255),\n",
    "  #The remaining layers are added in random order with dropouts and regularization to reduce overfitting\n",
    "  layers.Conv2D(16, 3, padding='same', activation='relu'),\n",
    "  layers.MaxPooling2D(),\n",
    "  layers.Conv2D(32, 3, padding='same', activation='relu', kernel_regularizer = l2(0.001)),\n",
    "  layers.MaxPooling2D(),\n",
    "  layers.Dropout(0.5),  \n",
    "  layers.Conv2D(64, 3, padding='same', activation='relu'),\n",
    "  layers.MaxPooling2D(),\n",
    "  layers.Conv2D(128, 3, padding = 'same', activation = 'relu'),\n",
    "  layers.Dropout(0.5),\n",
    "  layers.Flatten(),\n",
    "  layers.Dense(num_classes)\n",
    "])"
   ]
  },
  {
   "cell_type": "code",
   "execution_count": 28,
   "metadata": {},
   "outputs": [],
   "source": [
    "model = Sequential([\n",
    "  data_augmentation,\n",
    "  layers.experimental.preprocessing.Rescaling(1./255),\n",
    "  layers.Conv2D(16, 3, padding='same', activation='relu'),\n",
    "  layers.MaxPooling2D(),\n",
    "  layers.Conv2D(32, 3, padding='same', activation='relu'),\n",
    "  layers.MaxPooling2D(),\n",
    "  layers.Conv2D(64, 3, padding='same', activation='relu'),\n",
    "  layers.MaxPooling2D(),\n",
    "  layers.Dropout(0.2),\n",
    "  layers.Flatten(),\n",
    "  layers.Dense(128, activation='relu'),\n",
    "  layers.Dense(10)\n",
    "])\n"
   ]
  },
  {
   "cell_type": "code",
   "execution_count": 29,
   "metadata": {},
   "outputs": [],
   "source": [
    "#Currently this is set to the default learning rate, but I have it here\n",
    "#so I have the option to change it if I see fit\n",
    "\n",
    "opt = keras.optimizers.Adam(learning_rate=0.001)"
   ]
  },
  {
   "cell_type": "code",
   "execution_count": 30,
   "metadata": {},
   "outputs": [],
   "source": [
    "#Compiling model with the adam optimizer and learning rate I set int eh previous cell\n",
    "#Using accuracy as the metric\n",
    "\n",
    "model.compile(optimizer=opt,\n",
    "              loss=tf.keras.losses.SparseCategoricalCrossentropy(from_logits=True),\n",
    "              metrics=['accuracy'])"
   ]
  },
  {
   "cell_type": "code",
   "execution_count": 31,
   "metadata": {},
   "outputs": [
    {
     "name": "stdout",
     "output_type": "stream",
     "text": [
      "Model: \"sequential_4\"\n",
      "_________________________________________________________________\n",
      "Layer (type)                 Output Shape              Param #   \n",
      "=================================================================\n",
      "sequential_2 (Sequential)    (None, 256, 256, 3)       0         \n",
      "_________________________________________________________________\n",
      "rescaling_2 (Rescaling)      (None, 256, 256, 3)       0         \n",
      "_________________________________________________________________\n",
      "conv2d_6 (Conv2D)            (None, 256, 256, 16)      448       \n",
      "_________________________________________________________________\n",
      "max_pooling2d_6 (MaxPooling2 (None, 128, 128, 16)      0         \n",
      "_________________________________________________________________\n",
      "conv2d_7 (Conv2D)            (None, 128, 128, 32)      4640      \n",
      "_________________________________________________________________\n",
      "max_pooling2d_7 (MaxPooling2 (None, 64, 64, 32)        0         \n",
      "_________________________________________________________________\n",
      "conv2d_8 (Conv2D)            (None, 64, 64, 64)        18496     \n",
      "_________________________________________________________________\n",
      "max_pooling2d_8 (MaxPooling2 (None, 32, 32, 64)        0         \n",
      "_________________________________________________________________\n",
      "dropout_2 (Dropout)          (None, 32, 32, 64)        0         \n",
      "_________________________________________________________________\n",
      "flatten_2 (Flatten)          (None, 65536)             0         \n",
      "_________________________________________________________________\n",
      "dense_4 (Dense)              (None, 128)               8388736   \n",
      "_________________________________________________________________\n",
      "dense_5 (Dense)              (None, 10)                1290      \n",
      "=================================================================\n",
      "Total params: 8,413,610\n",
      "Trainable params: 8,413,610\n",
      "Non-trainable params: 0\n",
      "_________________________________________________________________\n"
     ]
    }
   ],
   "source": [
    "#Quick model summary to see what it will look like visually\n",
    "\n",
    "model.summary()"
   ]
  },
  {
   "cell_type": "markdown",
   "metadata": {},
   "source": [
    "### Model Fitting"
   ]
  },
  {
   "cell_type": "code",
   "execution_count": 32,
   "metadata": {},
   "outputs": [
    {
     "name": "stdout",
     "output_type": "stream",
     "text": [
      "Epoch 1/40\n",
      "57/57 [==============================] - 115s 2s/step - loss: 2.0683 - accuracy: 0.3384 - val_loss: 1.4029 - val_accuracy: 0.5596\n",
      "Epoch 2/40\n",
      "57/57 [==============================] - 112s 2s/step - loss: 0.8064 - accuracy: 0.7300 - val_loss: 1.5119 - val_accuracy: 0.5924\n",
      "Epoch 3/40\n",
      "57/57 [==============================] - 113s 2s/step - loss: 0.5113 - accuracy: 0.8322 - val_loss: 1.4843 - val_accuracy: 0.6294\n",
      "Epoch 4/40\n",
      "57/57 [==============================] - 112s 2s/step - loss: 0.4303 - accuracy: 0.8561 - val_loss: 2.0385 - val_accuracy: 0.6184\n",
      "Epoch 5/40\n",
      "57/57 [==============================] - 111s 2s/step - loss: 0.3473 - accuracy: 0.8820 - val_loss: 1.5866 - val_accuracy: 0.6760\n",
      "Epoch 6/40\n",
      "57/57 [==============================] - 112s 2s/step - loss: 0.2910 - accuracy: 0.8993 - val_loss: 1.0169 - val_accuracy: 0.7652\n",
      "Epoch 7/40\n",
      "57/57 [==============================] - 112s 2s/step - loss: 0.2550 - accuracy: 0.9126 - val_loss: 2.3993 - val_accuracy: 0.6178\n",
      "Epoch 8/40\n",
      "57/57 [==============================] - 112s 2s/step - loss: 0.2249 - accuracy: 0.9247 - val_loss: 1.9146 - val_accuracy: 0.6857\n",
      "Epoch 9/40\n",
      "57/57 [==============================] - 112s 2s/step - loss: 0.2130 - accuracy: 0.9249 - val_loss: 2.2467 - val_accuracy: 0.6256\n",
      "Epoch 10/40\n",
      "57/57 [==============================] - 113s 2s/step - loss: 0.2186 - accuracy: 0.9265 - val_loss: 1.6147 - val_accuracy: 0.7034\n",
      "Epoch 11/40\n",
      "57/57 [==============================] - 112s 2s/step - loss: 0.1686 - accuracy: 0.9405 - val_loss: 1.5363 - val_accuracy: 0.7381\n",
      "Epoch 12/40\n",
      "57/57 [==============================] - 112s 2s/step - loss: 0.1704 - accuracy: 0.9412 - val_loss: 2.5521 - val_accuracy: 0.6258\n",
      "Epoch 13/40\n",
      "57/57 [==============================] - 113s 2s/step - loss: 0.1730 - accuracy: 0.9387 - val_loss: 1.8208 - val_accuracy: 0.7282\n",
      "Epoch 14/40\n",
      "57/57 [==============================] - 111s 2s/step - loss: 0.1441 - accuracy: 0.9498 - val_loss: 1.4286 - val_accuracy: 0.7467\n",
      "Epoch 15/40\n",
      "57/57 [==============================] - 112s 2s/step - loss: 0.1483 - accuracy: 0.9466 - val_loss: 1.5325 - val_accuracy: 0.7445\n",
      "Epoch 16/40\n",
      "57/57 [==============================] - 113s 2s/step - loss: 0.1348 - accuracy: 0.9525 - val_loss: 2.1105 - val_accuracy: 0.6926\n",
      "Epoch 17/40\n",
      "57/57 [==============================] - 113s 2s/step - loss: 0.1228 - accuracy: 0.9575 - val_loss: 2.3198 - val_accuracy: 0.6885\n",
      "Epoch 18/40\n",
      "57/57 [==============================] - 112s 2s/step - loss: 0.1359 - accuracy: 0.9546 - val_loss: 2.0799 - val_accuracy: 0.7486\n",
      "Epoch 19/40\n",
      "57/57 [==============================] - 112s 2s/step - loss: 0.1263 - accuracy: 0.9576 - val_loss: 1.3865 - val_accuracy: 0.7779\n",
      "Epoch 20/40\n",
      "57/57 [==============================] - 112s 2s/step - loss: 0.1012 - accuracy: 0.9636 - val_loss: 1.6495 - val_accuracy: 0.7525\n",
      "Epoch 21/40\n",
      "57/57 [==============================] - 113s 2s/step - loss: 0.1080 - accuracy: 0.9632 - val_loss: 2.4340 - val_accuracy: 0.6611\n",
      "Epoch 22/40\n",
      "57/57 [==============================] - 113s 2s/step - loss: 0.1190 - accuracy: 0.9602 - val_loss: 2.0730 - val_accuracy: 0.7141\n",
      "Epoch 23/40\n",
      "57/57 [==============================] - 112s 2s/step - loss: 0.0986 - accuracy: 0.9662 - val_loss: 1.5905 - val_accuracy: 0.7710\n",
      "Epoch 24/40\n",
      "57/57 [==============================] - 111s 2s/step - loss: 0.1410 - accuracy: 0.9519 - val_loss: 1.8865 - val_accuracy: 0.7525\n",
      "Epoch 25/40\n",
      "57/57 [==============================] - 111s 2s/step - loss: 0.1002 - accuracy: 0.9645 - val_loss: 1.0862 - val_accuracy: 0.8126\n",
      "Epoch 26/40\n",
      "57/57 [==============================] - 111s 2s/step - loss: 0.0980 - accuracy: 0.9676 - val_loss: 1.7100 - val_accuracy: 0.7850\n",
      "Epoch 27/40\n",
      "57/57 [==============================] - 112s 2s/step - loss: 0.0759 - accuracy: 0.9742 - val_loss: 2.0314 - val_accuracy: 0.7486\n",
      "Epoch 28/40\n",
      "57/57 [==============================] - 114s 2s/step - loss: 0.0748 - accuracy: 0.9748 - val_loss: 1.6164 - val_accuracy: 0.7900\n",
      "Epoch 29/40\n",
      "57/57 [==============================] - 112s 2s/step - loss: 0.0798 - accuracy: 0.9742 - val_loss: 1.8772 - val_accuracy: 0.7586\n",
      "Epoch 30/40\n",
      "57/57 [==============================] - 111s 2s/step - loss: 0.0765 - accuracy: 0.9757 - val_loss: 1.7108 - val_accuracy: 0.7884\n",
      "Epoch 31/40\n",
      "57/57 [==============================] - 113s 2s/step - loss: 0.0685 - accuracy: 0.9757 - val_loss: 2.2358 - val_accuracy: 0.7249\n",
      "Epoch 32/40\n",
      "57/57 [==============================] - 113s 2s/step - loss: 0.1107 - accuracy: 0.9604 - val_loss: 1.5701 - val_accuracy: 0.7908\n",
      "Epoch 33/40\n",
      "57/57 [==============================] - 112s 2s/step - loss: 0.0881 - accuracy: 0.9679 - val_loss: 1.3702 - val_accuracy: 0.7919\n",
      "Epoch 34/40\n",
      "57/57 [==============================] - 113s 2s/step - loss: 0.0719 - accuracy: 0.9764 - val_loss: 1.0578 - val_accuracy: 0.8259\n",
      "Epoch 35/40\n",
      "57/57 [==============================] - 111s 2s/step - loss: 0.0612 - accuracy: 0.9789 - val_loss: 2.1693 - val_accuracy: 0.7729\n",
      "Epoch 36/40\n",
      "57/57 [==============================] - 113s 2s/step - loss: 0.0564 - accuracy: 0.9797 - val_loss: 0.8265 - val_accuracy: 0.8549\n",
      "Epoch 37/40\n",
      "57/57 [==============================] - 112s 2s/step - loss: 0.0516 - accuracy: 0.9819 - val_loss: 1.5276 - val_accuracy: 0.8107\n",
      "Epoch 38/40\n",
      "57/57 [==============================] - 112s 2s/step - loss: 0.0452 - accuracy: 0.9842 - val_loss: 1.4796 - val_accuracy: 0.8215\n",
      "Epoch 39/40\n",
      "57/57 [==============================] - 113s 2s/step - loss: 0.0493 - accuracy: 0.9826 - val_loss: 2.0378 - val_accuracy: 0.7660\n",
      "Epoch 40/40\n",
      "57/57 [==============================] - 111s 2s/step - loss: 0.0509 - accuracy: 0.9813 - val_loss: 0.8948 - val_accuracy: 0.8491\n"
     ]
    },
    {
     "data": {
      "text/plain": [
       "<bound method Response.json of <Response [200]>>"
      ]
     },
     "execution_count": 32,
     "metadata": {},
     "output_type": "execute_result"
    }
   ],
   "source": [
    "epochs = 40\n",
    "history = model.fit(\n",
    "  train_ds,\n",
    "  validation_data=val_ds,\n",
    "  epochs=epochs\n",
    ")\n",
    "\n",
    "telegram_bot_sendtext('done')"
   ]
  },
  {
   "cell_type": "code",
   "execution_count": 33,
   "metadata": {},
   "outputs": [
    {
     "data": {
      "image/png": "[encoded data removed]",
      "text/plain": [
       "<Figure size 1440x576 with 2 Axes>"
      ]
     },
     "metadata": {
      "needs_background": "light"
     },
     "output_type": "display_data"
    }
   ],
   "source": [
    "#This cell assigns the accuracy, val accuracy, loss, and val loss to variables\n",
    "#for plotting\n",
    "#Matplotlib is used to plot the loss and accuracy curves on the y axis and epochs on the x axis\n",
    "\n",
    "acc = history.history['accuracy']\n",
    "val_acc = history.history['val_accuracy']\n",
    "\n",
    "loss = history.history['loss']\n",
    "val_loss = history.history['val_loss']\n",
    "\n",
    "epochs_range = range(epochs)\n",
    "\n",
    "plt.figure(figsize=(20, 8))\n",
    "plt.subplot(1, 2, 1)\n",
    "plt.plot(epochs_range, acc, label='Training Accuracy')\n",
    "plt.plot(epochs_range, val_acc, label='Validation Accuracy')\n",
    "plt.legend(loc='lower right')\n",
    "plt.title('Training and Validation Accuracy')\n",
    "\n",
    "plt.subplot(1, 2, 2)\n",
    "plt.plot(epochs_range, loss, label='Training Loss')\n",
    "plt.plot(epochs_range, val_loss, label='Validation Loss')\n",
    "plt.legend(loc='upper right')\n",
    "plt.title('Training and Validation Loss')\n",
    "plt.show()"
   ]
  },
  {
   "cell_type": "code",
   "execution_count": null,
   "metadata": {},
   "outputs": [],
   "source": []
  }
 ],
 "metadata": {
  "environment": {
   "name": "tf2-gpu.2-4.m65",
   "type": "gcloud",
   "uri": "gcr.io/deeplearning-platform-release/tf2-gpu.2-4:m65"
  },
  "kernelspec": {
   "display_name": "Python 3",
   "language": "python",
   "name": "python3"
  },
  "language_info": {
   "codemirror_mode": {
    "name": "ipython",
    "version": 3
   },
   "file_extension": ".py",
   "mimetype": "text/x-python",
   "name": "python",
   "nbconvert_exporter": "python",
   "pygments_lexer": "ipython3",
   "version": "3.8.5"
  }
 },
 "nbformat": 4,
 "nbformat_minor": 5
}
