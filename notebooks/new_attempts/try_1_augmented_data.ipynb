{
 "cells": [
  {
   "cell_type": "markdown",
   "id": "verified-heading",
   "metadata": {},
   "source": [
    "### Importing Libraries"
   ]
  },
  {
   "cell_type": "code",
   "execution_count": 2,
   "id": "stylish-journey",
   "metadata": {},
   "outputs": [],
   "source": [
    "import matplotlib.pyplot as plt\n",
    "import numpy as np\n",
    "import tensorflow as tf\n",
    "import pandas as pd\n",
    "\n",
    "from tensorflow import keras\n",
    "from tensorflow.keras import layers\n",
    "from tensorflow.keras.models import Sequential\n",
    "\n",
    "from tensorflow.keras.regularizers import l1, l2\n",
    "\n",
    "\n",
    "import requests"
   ]
  },
  {
   "cell_type": "markdown",
   "id": "alike-triple",
   "metadata": {},
   "source": [
    "### Functions section"
   ]
  },
  {
   "cell_type": "code",
   "execution_count": 3,
   "id": "hairy-acceptance",
   "metadata": {},
   "outputs": [],
   "source": [
    "#This function will send me a message ont elegram when the neural network is done fitting\n",
    "\n",
    "\n",
    "def telegram_bot_sendtext(bot_message):\n",
    "    bot_token = '1653403779:AAFxxs8vLirSm-nXejEvmHpBoASuZOO75D8'\n",
    "    bot_chatID = '1589422433'\n",
    "    send_text = 'https://api.telegram.org/bot' + bot_token + '/sendMessage?chat_id=' + bot_chatID + \\\n",
    "                '&parse_mode=MarkdownV2&text=' + bot_message\n",
    "    response = requests.get(send_text)\n",
    "    \n",
    "    return response.json"
   ]
  },
  {
   "cell_type": "markdown",
   "id": "renewable-award",
   "metadata": {},
   "source": [
    "### Data Set-up"
   ]
  },
  {
   "cell_type": "code",
   "execution_count": 9,
   "id": "graduate-makeup",
   "metadata": {},
   "outputs": [],
   "source": [
    "##setting the directory from which I want to get my data\n",
    "\n",
    "data_dir = 'augmented_data/layer/layer_2'"
   ]
  },
  {
   "cell_type": "code",
   "execution_count": 10,
   "id": "ecological-difficulty",
   "metadata": {},
   "outputs": [],
   "source": [
    "#Setting the batch size\n",
    "\n",
    "batch_size = 256\n",
    "\n",
    "#The height and width of each of my images in 256 picels so I will hard code that\n",
    "\n",
    "img_height = 256\n",
    "img_width = 256"
   ]
  },
  {
   "cell_type": "markdown",
   "id": "prescription-bobby",
   "metadata": {},
   "source": [
    "### Train, test, splitting"
   ]
  },
  {
   "cell_type": "code",
   "execution_count": 11,
   "id": "national-programmer",
   "metadata": {},
   "outputs": [
    {
     "name": "stdout",
     "output_type": "stream",
     "text": [
      "Found 29984 files belonging to 10 classes.\n",
      "Using 23988 files for training.\n"
     ]
    }
   ],
   "source": [
    "#Setting training set to 80% of my data\n",
    "#I'm using the batch_size, img_height, img_width\n",
    "\n",
    "train_ds = tf.keras.preprocessing.image_dataset_from_directory(\n",
    "  data_dir,\n",
    "  validation_split=0.2,\n",
    "  subset=\"training\",\n",
    "  seed=123,\n",
    "  image_size=(img_height, img_width),\n",
    "  batch_size=batch_size)"
   ]
  },
  {
   "cell_type": "code",
   "execution_count": 12,
   "id": "labeled-administrator",
   "metadata": {},
   "outputs": [
    {
     "name": "stdout",
     "output_type": "stream",
     "text": [
      "Found 29984 files belonging to 10 classes.\n",
      "Using 5996 files for validation.\n"
     ]
    }
   ],
   "source": [
    "#Setting testing set to be 20% of my data\n",
    "\n",
    "val_ds = tf.keras.preprocessing.image_dataset_from_directory(\n",
    "  data_dir,\n",
    "  validation_split=0.2,\n",
    "  subset=\"validation\",\n",
    "  seed=123,\n",
    "  image_size=(img_height, img_width),\n",
    "  batch_size=batch_size)"
   ]
  },
  {
   "cell_type": "code",
   "execution_count": 13,
   "id": "rising-binding",
   "metadata": {},
   "outputs": [
    {
     "name": "stdout",
     "output_type": "stream",
     "text": [
      "['bacterial_spot', 'early_blight', 'healthy', 'late_blight', 'leaf_mold', 'leaf_septoria', 'mosaic_virus', 'spider_mites', 'target_spot', 'yellow_leaf_curl_virus']\n"
     ]
    }
   ],
   "source": [
    "class_names = train_ds.class_names\n",
    "print(class_names)"
   ]
  },
  {
   "cell_type": "code",
   "execution_count": 14,
   "id": "shared-deposit",
   "metadata": {},
   "outputs": [],
   "source": [
    "num_classes = 10"
   ]
  },
  {
   "cell_type": "markdown",
   "id": "nuclear-amino",
   "metadata": {},
   "source": [
    "### Layer Set-up For Model"
   ]
  },
  {
   "cell_type": "code",
   "execution_count": 15,
   "id": "photographic-canadian",
   "metadata": {},
   "outputs": [],
   "source": [
    "#This is the layer that will augment the data so I have mroe images to work from\n",
    "#The code flips horizontally, does a random rotation, and random zoom\n",
    "\n",
    "data_augmentation = keras.Sequential(\n",
    "  [\n",
    "    layers.experimental.preprocessing.RandomFlip(\"horizontal\", \n",
    "                                                 input_shape=(img_height, \n",
    "                                                              img_width,\n",
    "                                                              3)),\n",
    "    layers.experimental.preprocessing.RandomRotation(0.1),\n",
    "    layers.experimental.preprocessing.RandomZoom(0.1),\n",
    "  ]\n",
    ")"
   ]
  },
  {
   "cell_type": "code",
   "execution_count": 22,
   "id": "obvious-aggregate",
   "metadata": {},
   "outputs": [],
   "source": [
    "model = Sequential([\n",
    "  data_augmentation,\n",
    "  layers.experimental.preprocessing.Rescaling(1./255),\n",
    "  layers.Conv2D(16, 3, padding='same', activation='relu', kernel_regularizer = l1(0.0001)),\n",
    "  layers.MaxPooling2D(),\n",
    "  layers.Conv2D(32, 3, padding='same', activation='relu'),\n",
    "  layers.MaxPooling2D(),\n",
    "  layers.Dropout(0.2),\n",
    "  layers.Flatten(),\n",
    "  layers.Dense(64, activation='relu'),\n",
    "  layers.Dense(10)\n",
    "])\n"
   ]
  },
  {
   "cell_type": "code",
   "execution_count": 23,
   "id": "accessory-performance",
   "metadata": {},
   "outputs": [],
   "source": [
    "#Currently this is set to the default learning rate, but I have it here\n",
    "#so I have the option to change it if I see fit\n",
    "\n",
    "opt = keras.optimizers.Adam(learning_rate=0.005)"
   ]
  },
  {
   "cell_type": "code",
   "execution_count": 24,
   "id": "portable-addition",
   "metadata": {},
   "outputs": [],
   "source": [
    "#Compiling model with the adam optimizer and learning rate I set int eh previous cell\n",
    "#Using accuracy as the metric\n",
    "\n",
    "model.compile(optimizer=opt,\n",
    "              loss=tf.keras.losses.SparseCategoricalCrossentropy(from_logits=True),\n",
    "              metrics=['accuracy'])"
   ]
  },
  {
   "cell_type": "code",
   "execution_count": 25,
   "id": "wired-photography",
   "metadata": {},
   "outputs": [
    {
     "name": "stdout",
     "output_type": "stream",
     "text": [
      "Model: \"sequential_2\"\n",
      "_________________________________________________________________\n",
      "Layer (type)                 Output Shape              Param #   \n",
      "=================================================================\n",
      "sequential (Sequential)      (None, 256, 256, 3)       0         \n",
      "_________________________________________________________________\n",
      "rescaling_1 (Rescaling)      (None, 256, 256, 3)       0         \n",
      "_________________________________________________________________\n",
      "conv2d_1 (Conv2D)            (None, 256, 256, 16)      448       \n",
      "_________________________________________________________________\n",
      "max_pooling2d_1 (MaxPooling2 (None, 128, 128, 16)      0         \n",
      "_________________________________________________________________\n",
      "conv2d_2 (Conv2D)            (None, 128, 128, 32)      4640      \n",
      "_________________________________________________________________\n",
      "max_pooling2d_2 (MaxPooling2 (None, 64, 64, 32)        0         \n",
      "_________________________________________________________________\n",
      "dropout_1 (Dropout)          (None, 64, 64, 32)        0         \n",
      "_________________________________________________________________\n",
      "flatten_1 (Flatten)          (None, 131072)            0         \n",
      "_________________________________________________________________\n",
      "dense_2 (Dense)              (None, 64)                8388672   \n",
      "_________________________________________________________________\n",
      "dense_3 (Dense)              (None, 10)                650       \n",
      "=================================================================\n",
      "Total params: 8,394,410\n",
      "Trainable params: 8,394,410\n",
      "Non-trainable params: 0\n",
      "_________________________________________________________________\n"
     ]
    }
   ],
   "source": [
    "#Quick model summary to see what it will look like visually\n",
    "\n",
    "model.summary()"
   ]
  },
  {
   "cell_type": "markdown",
   "id": "vocational-massachusetts",
   "metadata": {},
   "source": [
    "### Model Fitting"
   ]
  },
  {
   "cell_type": "code",
   "execution_count": 26,
   "id": "sufficient-truth",
   "metadata": {},
   "outputs": [
    {
     "name": "stdout",
     "output_type": "stream",
     "text": [
      "Epoch 1/30\n",
      "94/94 [==============================] - 169s 2s/step - loss: 6.0304 - accuracy: 0.1041 - val_loss: 2.3315 - val_accuracy: 0.1189\n",
      "Epoch 2/30\n",
      "94/94 [==============================] - 167s 2s/step - loss: 2.2215 - accuracy: 0.1760 - val_loss: 2.3623 - val_accuracy: 0.0931\n",
      "Epoch 3/30\n",
      "94/94 [==============================] - 170s 2s/step - loss: 2.3192 - accuracy: 0.0979 - val_loss: 2.3076 - val_accuracy: 0.0932\n",
      "Epoch 4/30\n",
      "94/94 [==============================] - 168s 2s/step - loss: 2.3070 - accuracy: 0.0974 - val_loss: 2.3071 - val_accuracy: 0.0932\n",
      "Epoch 5/30\n",
      "94/94 [==============================] - 167s 2s/step - loss: 2.3070 - accuracy: 0.0958 - val_loss: 2.3071 - val_accuracy: 0.0932\n",
      "Epoch 6/30\n",
      "94/94 [==============================] - 168s 2s/step - loss: 2.3069 - accuracy: 0.0984 - val_loss: 2.3071 - val_accuracy: 0.0932\n",
      "Epoch 7/30\n",
      "94/94 [==============================] - 168s 2s/step - loss: 2.3069 - accuracy: 0.0996 - val_loss: 2.3072 - val_accuracy: 0.0932\n",
      "Epoch 8/30\n",
      "94/94 [==============================] - 166s 2s/step - loss: 2.3065 - accuracy: 0.0961 - val_loss: 2.3072 - val_accuracy: 0.0934\n",
      "Epoch 9/30\n",
      "94/94 [==============================] - 168s 2s/step - loss: 2.3067 - accuracy: 0.0979 - val_loss: 2.3072 - val_accuracy: 0.0932\n",
      "Epoch 10/30\n",
      "94/94 [==============================] - 165s 2s/step - loss: 2.3066 - accuracy: 0.0976 - val_loss: 2.3070 - val_accuracy: 0.0937\n",
      "Epoch 11/30\n",
      "94/94 [==============================] - 168s 2s/step - loss: 2.3066 - accuracy: 0.0982 - val_loss: 2.3061 - val_accuracy: 0.0942\n",
      "Epoch 12/30\n",
      "94/94 [==============================] - 170s 2s/step - loss: 2.3064 - accuracy: 0.1005 - val_loss: 2.3063 - val_accuracy: 0.0966\n",
      "Epoch 13/30\n",
      "94/94 [==============================] - 168s 2s/step - loss: 2.3057 - accuracy: 0.1034 - val_loss: 2.2950 - val_accuracy: 0.1052\n",
      "Epoch 14/30\n",
      "94/94 [==============================] - 169s 2s/step - loss: 2.2476 - accuracy: 0.1370 - val_loss: 1.9570 - val_accuracy: 0.2942\n",
      "Epoch 15/30\n",
      "94/94 [==============================] - 168s 2s/step - loss: 1.9590 - accuracy: 0.2913 - val_loss: 1.7177 - val_accuracy: 0.3691\n",
      "Epoch 16/30\n",
      "94/94 [==============================] - 168s 2s/step - loss: 1.9217 - accuracy: 0.3675 - val_loss: 2.3224 - val_accuracy: 0.0991\n",
      "Epoch 17/30\n",
      "94/94 [==============================] - 167s 2s/step - loss: 2.3105 - accuracy: 0.0974 - val_loss: 2.3086 - val_accuracy: 0.0931\n",
      "Epoch 18/30\n",
      "94/94 [==============================] - 168s 2s/step - loss: 2.3081 - accuracy: 0.0988 - val_loss: 2.3084 - val_accuracy: 0.0689\n",
      "Epoch 19/30\n",
      "94/94 [==============================] - 168s 2s/step - loss: 2.3054 - accuracy: 0.1020 - val_loss: 2.3126 - val_accuracy: 0.1009\n",
      "Epoch 20/30\n",
      "94/94 [==============================] - 168s 2s/step - loss: 2.3089 - accuracy: 0.0958 - val_loss: 2.3079 - val_accuracy: 0.0979\n",
      "Epoch 21/30\n",
      "94/94 [==============================] - 167s 2s/step - loss: 2.3075 - accuracy: 0.0981 - val_loss: 2.3077 - val_accuracy: 0.0984\n",
      "Epoch 22/30\n",
      "94/94 [==============================] - 167s 2s/step - loss: 2.3017 - accuracy: 0.1029 - val_loss: 2.3080 - val_accuracy: 0.0979\n",
      "Epoch 23/30\n",
      "94/94 [==============================] - 168s 2s/step - loss: 2.3084 - accuracy: 0.0976 - val_loss: 2.3089 - val_accuracy: 0.0979\n",
      "Epoch 24/30\n",
      "94/94 [==============================] - 168s 2s/step - loss: 2.3077 - accuracy: 0.1017 - val_loss: 2.3076 - val_accuracy: 0.0931\n",
      "Epoch 25/30\n",
      "94/94 [==============================] - 169s 2s/step - loss: 2.3077 - accuracy: 0.0993 - val_loss: 2.3081 - val_accuracy: 0.0931\n",
      "Epoch 26/30\n",
      "94/94 [==============================] - 169s 2s/step - loss: 2.3077 - accuracy: 0.0974 - val_loss: 2.3077 - val_accuracy: 0.0931\n",
      "Epoch 27/30\n",
      "94/94 [==============================] - 168s 2s/step - loss: 2.3074 - accuracy: 0.0972 - val_loss: 2.3078 - val_accuracy: 0.0931\n",
      "Epoch 28/30\n",
      "94/94 [==============================] - 167s 2s/step - loss: 2.3076 - accuracy: 0.0983 - val_loss: 2.3078 - val_accuracy: 0.0931\n",
      "Epoch 29/30\n",
      "94/94 [==============================] - 168s 2s/step - loss: 2.3073 - accuracy: 0.1002 - val_loss: 2.3074 - val_accuracy: 0.0931\n",
      "Epoch 30/30\n",
      "94/94 [==============================] - 168s 2s/step - loss: 2.3043 - accuracy: 0.1027 - val_loss: 2.3093 - val_accuracy: 0.1009\n"
     ]
    },
    {
     "data": {
      "text/plain": [
       "<bound method Response.json of <Response [200]>>"
      ]
     },
     "execution_count": 26,
     "metadata": {},
     "output_type": "execute_result"
    }
   ],
   "source": [
    "epochs = 30\n",
    "history = model.fit(\n",
    "  train_ds,\n",
    "  validation_data=val_ds,\n",
    "  epochs=epochs\n",
    ")\n",
    "\n",
    "telegram_bot_sendtext('done')"
   ]
  },
  {
   "cell_type": "code",
   "execution_count": 27,
   "id": "interim-sailing",
   "metadata": {},
   "outputs": [
    {
     "data": {
      "image/png": "[encoded data removed]",
      "text/plain": [
       "<Figure size 1440x576 with 2 Axes>"
      ]
     },
     "metadata": {
      "needs_background": "light"
     },
     "output_type": "display_data"
    }
   ],
   "source": [
    "#This cell assigns the accuracy, val accuracy, loss, and val loss to variables\n",
    "#for plotting\n",
    "#Matplotlib is used to plot the loss and accuracy curves on the y axis and epochs on the x axis\n",
    "\n",
    "#SAVE THESE RESULTS, DROPOUT = 0.4\n",
    "\n",
    "\n",
    "\n",
    "acc = history.history['accuracy']\n",
    "val_acc = history.history['val_accuracy']\n",
    "\n",
    "loss = history.history['loss']\n",
    "val_loss = history.history['val_loss']\n",
    "\n",
    "epochs_range = range(epochs)\n",
    "\n",
    "plt.figure(figsize=(20, 8))\n",
    "plt.subplot(1, 2, 1)\n",
    "plt.plot(epochs_range, acc, label='Training Accuracy')\n",
    "plt.plot(epochs_range, val_acc, label='Validation Accuracy')\n",
    "plt.legend(loc='lower right')\n",
    "plt.title('Training and Validation Accuracy')\n",
    "\n",
    "plt.subplot(1, 2, 2)\n",
    "plt.plot(epochs_range, loss, label='Training Loss')\n",
    "plt.plot(epochs_range, val_loss, label='Validation Loss')\n",
    "plt.legend(loc='upper right')\n",
    "plt.title('Training and Validation Loss')\n",
    "plt.show()\n",
    "\n",
    "\n",
    "\n",
    "\n",
    "\n",
    "\n",
    "\n",
    "\n",
    "#SAVE THESE RESULTS, DROPOUT = 0.4"
   ]
  },
  {
   "cell_type": "code",
   "execution_count": null,
   "id": "operational-movie",
   "metadata": {},
   "outputs": [],
   "source": []
  }
 ],
 "metadata": {
  "environment": {
   "name": "tf2-gpu.2-4.m65",
   "type": "gcloud",
   "uri": "gcr.io/deeplearning-platform-release/tf2-gpu.2-4:m65"
  },
  "kernelspec": {
   "display_name": "Python 3",
   "language": "python",
   "name": "python3"
  },
  "language_info": {
   "codemirror_mode": {
    "name": "ipython",
    "version": 3
   },
   "file_extension": ".py",
   "mimetype": "text/x-python",
   "name": "python",
   "nbconvert_exporter": "python",
   "pygments_lexer": "ipython3",
   "version": "3.7.10"
  }
 },
 "nbformat": 4,
 "nbformat_minor": 5
}
