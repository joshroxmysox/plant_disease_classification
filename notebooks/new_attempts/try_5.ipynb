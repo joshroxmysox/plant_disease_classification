{
 "cells": [
  {
   "cell_type": "code",
   "execution_count": 54,
   "metadata": {},
   "outputs": [
    {
     "name": "stdout",
     "output_type": "stream",
     "text": [
      "Collecting efficientnet\n",
      "  Downloading efficientnet-1.1.1-py3-none-any.whl (18 kB)\n",
      "Collecting keras-applications<=1.0.8,>=1.0.7\n",
      "  Downloading Keras_Applications-1.0.8-py3-none-any.whl (50 kB)\n",
      "\u001b[K     |████████████████████████████████| 50 kB 5.0 MB/s eta 0:00:011\n",
      "\u001b[?25hRequirement already satisfied: scikit-image in /opt/conda/lib/python3.7/site-packages (from efficientnet) (0.18.1)\n",
      "Requirement already satisfied: numpy>=1.9.1 in /opt/conda/lib/python3.7/site-packages (from keras-applications<=1.0.8,>=1.0.7->efficientnet) (1.19.5)\n",
      "Requirement already satisfied: h5py in /opt/conda/lib/python3.7/site-packages (from keras-applications<=1.0.8,>=1.0.7->efficientnet) (2.10.0)\n",
      "Requirement already satisfied: six in /opt/conda/lib/python3.7/site-packages (from h5py->keras-applications<=1.0.8,>=1.0.7->efficientnet) (1.15.0)\n",
      "Requirement already satisfied: pillow!=7.1.0,!=7.1.1,>=4.3.0 in /opt/conda/lib/python3.7/site-packages (from scikit-image->efficientnet) (8.1.0)\n",
      "Requirement already satisfied: networkx>=2.0 in /opt/conda/lib/python3.7/site-packages (from scikit-image->efficientnet) (2.5)\n",
      "Requirement already satisfied: tifffile>=2019.7.26 in /opt/conda/lib/python3.7/site-packages (from scikit-image->efficientnet) (2021.2.26)\n",
      "Requirement already satisfied: imageio>=2.3.0 in /opt/conda/lib/python3.7/site-packages (from scikit-image->efficientnet) (2.9.0)\n",
      "Requirement already satisfied: matplotlib!=3.0.0,>=2.0.0 in /opt/conda/lib/python3.7/site-packages (from scikit-image->efficientnet) (3.3.4)\n",
      "Requirement already satisfied: PyWavelets>=1.1.1 in /opt/conda/lib/python3.7/site-packages (from scikit-image->efficientnet) (1.1.1)\n",
      "Requirement already satisfied: scipy>=1.0.1 in /opt/conda/lib/python3.7/site-packages (from scikit-image->efficientnet) (1.6.0)\n",
      "Requirement already satisfied: cycler>=0.10 in /opt/conda/lib/python3.7/site-packages (from matplotlib!=3.0.0,>=2.0.0->scikit-image->efficientnet) (0.10.0)\n",
      "Requirement already satisfied: kiwisolver>=1.0.1 in /opt/conda/lib/python3.7/site-packages (from matplotlib!=3.0.0,>=2.0.0->scikit-image->efficientnet) (1.3.1)\n",
      "Requirement already satisfied: pyparsing!=2.0.4,!=2.1.2,!=2.1.6,>=2.0.3 in /opt/conda/lib/python3.7/site-packages (from matplotlib!=3.0.0,>=2.0.0->scikit-image->efficientnet) (2.4.7)\n",
      "Requirement already satisfied: python-dateutil>=2.1 in /opt/conda/lib/python3.7/site-packages (from matplotlib!=3.0.0,>=2.0.0->scikit-image->efficientnet) (2.8.1)\n",
      "Requirement already satisfied: decorator>=4.3.0 in /opt/conda/lib/python3.7/site-packages (from networkx>=2.0->scikit-image->efficientnet) (4.4.2)\n",
      "Installing collected packages: keras-applications, efficientnet\n",
      "Successfully installed efficientnet-1.1.1 keras-applications-1.0.8\n"
     ]
    }
   ],
   "source": [
    "#I installe efficientnet for one of my tests but it did not perform well so it is not needed\n",
    "#source: https://keras.io/api/applications/efficientnet/\n",
    "\n",
    "!pip install efficientnet"
   ]
  },
  {
   "cell_type": "markdown",
   "metadata": {},
   "source": [
    "### Importing Libraries"
   ]
  },
  {
   "cell_type": "code",
   "execution_count": 1,
   "metadata": {},
   "outputs": [],
   "source": [
    "import matplotlib.pyplot as plt\n",
    "import numpy as np\n",
    "import tensorflow as tf\n",
    "import pandas as pd\n",
    "\n",
    "from tensorflow import keras\n",
    "from tensorflow.keras import layers\n",
    "from tensorflow.keras.models import Sequential\n",
    "\n",
    "import efficientnet.tfkeras as efn\n",
    "from tensorflow.keras.regularizers import l1, l2\n",
    "\n",
    "\n",
    "import requests"
   ]
  },
  {
   "cell_type": "markdown",
   "metadata": {},
   "source": [
    "### Functions section"
   ]
  },
  {
   "cell_type": "code",
   "execution_count": 2,
   "metadata": {},
   "outputs": [],
   "source": [
    "#This function will send me a message ont elegram when the neural network is done fitting\n",
    "\n",
    "\n",
    "def telegram_bot_sendtext(bot_message):\n",
    "    bot_token = '1653403779:AAFxxs8vLirSm-nXejEvmHpBoASuZOO75D8'\n",
    "    bot_chatID = '1589422433'\n",
    "    send_text = 'https://api.telegram.org/bot' + bot_token + '/sendMessage?chat_id=' + bot_chatID + \\\n",
    "                '&parse_mode=MarkdownV2&text=' + bot_message\n",
    "    response = requests.get(send_text)\n",
    "    \n",
    "    return response.json"
   ]
  },
  {
   "cell_type": "markdown",
   "metadata": {},
   "source": [
    "### Data Set-up"
   ]
  },
  {
   "cell_type": "code",
   "execution_count": 3,
   "metadata": {},
   "outputs": [],
   "source": [
    "##setting the directory from which I want to get my data\n",
    "\n",
    "data_dir = '../data/layer'"
   ]
  },
  {
   "cell_type": "code",
   "execution_count": 4,
   "metadata": {},
   "outputs": [],
   "source": [
    "#Setting the batch size\n",
    "\n",
    "batch_size = 256\n",
    "\n",
    "#The height and width of each of my images in 256 picels so I will hard code that\n",
    "\n",
    "img_height = 256\n",
    "img_width = 256"
   ]
  },
  {
   "cell_type": "markdown",
   "metadata": {},
   "source": [
    "### Train, test, splitting"
   ]
  },
  {
   "cell_type": "code",
   "execution_count": 5,
   "metadata": {},
   "outputs": [
    {
     "name": "stdout",
     "output_type": "stream",
     "text": [
      "Found 18124 files belonging to 10 classes.\n",
      "Using 14500 files for training.\n"
     ]
    }
   ],
   "source": [
    "#Setting training set to 80% of my data\n",
    "#I'm using the batch_size, img_height, img_width\n",
    "\n",
    "train_ds = tf.keras.preprocessing.image_dataset_from_directory(\n",
    "  data_dir,\n",
    "  validation_split=0.2,\n",
    "  subset=\"training\",\n",
    "  seed=123,\n",
    "  image_size=(img_height, img_width),\n",
    "  batch_size=batch_size)"
   ]
  },
  {
   "cell_type": "code",
   "execution_count": 6,
   "metadata": {},
   "outputs": [
    {
     "name": "stdout",
     "output_type": "stream",
     "text": [
      "Found 18124 files belonging to 10 classes.\n",
      "Using 3624 files for validation.\n"
     ]
    }
   ],
   "source": [
    "#Setting testing set to be 20% of my data\n",
    "\n",
    "val_ds = tf.keras.preprocessing.image_dataset_from_directory(\n",
    "  data_dir,\n",
    "  validation_split=0.2,\n",
    "  subset=\"validation\",\n",
    "  seed=123,\n",
    "  image_size=(img_height, img_width),\n",
    "  batch_size=batch_size)"
   ]
  },
  {
   "cell_type": "code",
   "execution_count": 7,
   "metadata": {},
   "outputs": [
    {
     "name": "stdout",
     "output_type": "stream",
     "text": [
      "['bacterial_spot', 'early_blight', 'healthy', 'late_blight', 'leaf_mold', 'leaf_septoria', 'mosaic_virus', 'spider_mites', 'target_spot', 'yellow_leaf_curl_virus']\n"
     ]
    }
   ],
   "source": [
    "class_names = train_ds.class_names\n",
    "print(class_names)"
   ]
  },
  {
   "cell_type": "code",
   "execution_count": 8,
   "metadata": {},
   "outputs": [],
   "source": [
    "num_classes = 10"
   ]
  },
  {
   "cell_type": "markdown",
   "metadata": {},
   "source": [
    "### Layer Set-up For Model"
   ]
  },
  {
   "cell_type": "code",
   "execution_count": 9,
   "metadata": {},
   "outputs": [],
   "source": [
    "#This is the layer that will augment the data so I have mroe images to work from\n",
    "#The code flips horizontally, does a random rotation, and random zoom\n",
    "\n",
    "data_augmentation = keras.Sequential(\n",
    "  [\n",
    "    layers.experimental.preprocessing.RandomFlip(\"horizontal\", \n",
    "                                                 input_shape=(img_height, \n",
    "                                                              img_width,\n",
    "                                                              3)),\n",
    "    layers.experimental.preprocessing.RandomRotation(0.1),\n",
    "    layers.experimental.preprocessing.RandomZoom(0.1),\n",
    "  ]\n",
    ")"
   ]
  },
  {
   "cell_type": "code",
   "execution_count": 10,
   "metadata": {},
   "outputs": [],
   "source": [
    "# efficient = efn.EfficientNetB0(weights='imagenet', include_top=False, \n",
    "#                        input_shape=(256, 256, 3))\n",
    "\n",
    "# for layer in efficient.layers[:]:\n",
    "#     layer.trainable = False"
   ]
  },
  {
   "cell_type": "code",
   "execution_count": 29,
   "metadata": {},
   "outputs": [],
   "source": [
    "model = Sequential([\n",
    "  data_augmentation,\n",
    "  layers.experimental.preprocessing.Rescaling(1./255),\n",
    "  layers.Conv2D(16, 3, padding='same', activation='relu', kernel_regularizer = l1(0.0001)),\n",
    "  layers.MaxPooling2D(),\n",
    "#   layers.Conv2D(32, 3, padding='same', activation='relu'),\n",
    "#   layers.MaxPooling2D(),\n",
    "  layers.Dropout(0.2),\n",
    "  layers.Flatten(),\n",
    "  layers.Dense(64, activation='relu'),\n",
    "  layers.Dense(10)\n",
    "])\n"
   ]
  },
  {
   "cell_type": "code",
   "execution_count": 30,
   "metadata": {},
   "outputs": [],
   "source": [
    "#Currently this is set to the default learning rate, but I have it here\n",
    "#so I have the option to change it if I see fit\n",
    "\n",
    "opt = keras.optimizers.Adam(learning_rate=0.005)"
   ]
  },
  {
   "cell_type": "code",
   "execution_count": 31,
   "metadata": {},
   "outputs": [],
   "source": [
    "#Compiling model with the adam optimizer and learning rate I set int eh previous cell\n",
    "#Using accuracy as the metric\n",
    "\n",
    "model.compile(optimizer=opt,\n",
    "              loss=tf.keras.losses.SparseCategoricalCrossentropy(from_logits=True),\n",
    "              metrics=['accuracy'])"
   ]
  },
  {
   "cell_type": "code",
   "execution_count": 32,
   "metadata": {},
   "outputs": [
    {
     "name": "stdout",
     "output_type": "stream",
     "text": [
      "Model: \"sequential_4\"\n",
      "_________________________________________________________________\n",
      "Layer (type)                 Output Shape              Param #   \n",
      "=================================================================\n",
      "sequential (Sequential)      (None, 256, 256, 3)       0         \n",
      "_________________________________________________________________\n",
      "rescaling_3 (Rescaling)      (None, 256, 256, 3)       0         \n",
      "_________________________________________________________________\n",
      "conv2d_4 (Conv2D)            (None, 256, 256, 16)      448       \n",
      "_________________________________________________________________\n",
      "max_pooling2d_4 (MaxPooling2 (None, 128, 128, 16)      0         \n",
      "_________________________________________________________________\n",
      "dropout_3 (Dropout)          (None, 128, 128, 16)      0         \n",
      "_________________________________________________________________\n",
      "flatten_3 (Flatten)          (None, 262144)            0         \n",
      "_________________________________________________________________\n",
      "dense_6 (Dense)              (None, 64)                16777280  \n",
      "_________________________________________________________________\n",
      "dense_7 (Dense)              (None, 10)                650       \n",
      "=================================================================\n",
      "Total params: 16,778,378\n",
      "Trainable params: 16,778,378\n",
      "Non-trainable params: 0\n",
      "_________________________________________________________________\n"
     ]
    }
   ],
   "source": [
    "#Quick model summary to see what it will look like visually\n",
    "\n",
    "model.summary()"
   ]
  },
  {
   "cell_type": "markdown",
   "metadata": {},
   "source": [
    "### Model Fitting"
   ]
  },
  {
   "cell_type": "code",
   "execution_count": 33,
   "metadata": {},
   "outputs": [
    {
     "name": "stdout",
     "output_type": "stream",
     "text": [
      "Epoch 1/100\n",
      "57/57 [==============================] - 97s 2s/step - loss: 19.6385 - accuracy: 0.2687 - val_loss: 1.6272 - val_accuracy: 0.4674\n",
      "Epoch 2/100\n",
      "57/57 [==============================] - 97s 2s/step - loss: 1.5185 - accuracy: 0.4930 - val_loss: 1.4457 - val_accuracy: 0.5196\n",
      "Epoch 3/100\n",
      "57/57 [==============================] - 96s 2s/step - loss: 1.1766 - accuracy: 0.5874 - val_loss: 1.2042 - val_accuracy: 0.6065\n",
      "Epoch 4/100\n",
      "57/57 [==============================] - 96s 2s/step - loss: 1.0240 - accuracy: 0.6456 - val_loss: 1.1950 - val_accuracy: 0.6192\n",
      "Epoch 5/100\n",
      "57/57 [==============================] - 96s 2s/step - loss: 0.9292 - accuracy: 0.6823 - val_loss: 1.0644 - val_accuracy: 0.6598\n",
      "Epoch 6/100\n",
      "57/57 [==============================] - 96s 2s/step - loss: 0.7918 - accuracy: 0.7314 - val_loss: 1.0029 - val_accuracy: 0.6868\n",
      "Epoch 7/100\n",
      "57/57 [==============================] - 85s 1s/step - loss: 0.7546 - accuracy: 0.7458 - val_loss: 0.9614 - val_accuracy: 0.7152\n",
      "Epoch 8/100\n",
      "57/57 [==============================] - 80s 1s/step - loss: 0.6561 - accuracy: 0.7776 - val_loss: 0.8861 - val_accuracy: 0.7428\n",
      "Epoch 9/100\n",
      "57/57 [==============================] - 80s 1s/step - loss: 0.6214 - accuracy: 0.7886 - val_loss: 0.9759 - val_accuracy: 0.7387\n",
      "Epoch 10/100\n",
      "57/57 [==============================] - 80s 1s/step - loss: 0.6001 - accuracy: 0.7974 - val_loss: 0.9489 - val_accuracy: 0.7425\n",
      "Epoch 11/100\n",
      "57/57 [==============================] - 81s 1s/step - loss: 0.5636 - accuracy: 0.8145 - val_loss: 0.9449 - val_accuracy: 0.7434\n",
      "Epoch 12/100\n",
      "57/57 [==============================] - 84s 1s/step - loss: 0.5592 - accuracy: 0.8116 - val_loss: 1.1545 - val_accuracy: 0.7155\n",
      "Epoch 13/100\n",
      "57/57 [==============================] - 87s 2s/step - loss: 0.5415 - accuracy: 0.8134 - val_loss: 0.9185 - val_accuracy: 0.7494\n",
      "Epoch 14/100\n",
      "57/57 [==============================] - 88s 2s/step - loss: 0.5323 - accuracy: 0.8213 - val_loss: 0.8219 - val_accuracy: 0.7724\n",
      "Epoch 15/100\n",
      "57/57 [==============================] - 88s 2s/step - loss: 0.4900 - accuracy: 0.8385 - val_loss: 0.9252 - val_accuracy: 0.7616\n",
      "Epoch 16/100\n",
      "57/57 [==============================] - 88s 2s/step - loss: 0.5126 - accuracy: 0.8257 - val_loss: 1.0211 - val_accuracy: 0.7152\n",
      "Epoch 17/100\n",
      "57/57 [==============================] - 88s 2s/step - loss: 0.5270 - accuracy: 0.8258 - val_loss: 0.9864 - val_accuracy: 0.7467\n",
      "Epoch 18/100\n",
      "57/57 [==============================] - 88s 2s/step - loss: 0.4848 - accuracy: 0.8399 - val_loss: 0.8092 - val_accuracy: 0.7795\n",
      "Epoch 19/100\n",
      "57/57 [==============================] - 87s 2s/step - loss: 0.4633 - accuracy: 0.8456 - val_loss: 0.8316 - val_accuracy: 0.7817\n",
      "Epoch 20/100\n",
      "57/57 [==============================] - 88s 2s/step - loss: 0.4731 - accuracy: 0.8402 - val_loss: 0.8636 - val_accuracy: 0.7643\n",
      "Epoch 21/100\n",
      "57/57 [==============================] - 87s 2s/step - loss: 0.5084 - accuracy: 0.8255 - val_loss: 0.8334 - val_accuracy: 0.7820\n",
      "Epoch 22/100\n",
      "57/57 [==============================] - 88s 2s/step - loss: 0.4773 - accuracy: 0.8364 - val_loss: 0.8494 - val_accuracy: 0.7768\n",
      "Epoch 23/100\n",
      "57/57 [==============================] - 88s 2s/step - loss: 0.4855 - accuracy: 0.8357 - val_loss: 0.9022 - val_accuracy: 0.7677\n",
      "Epoch 24/100\n",
      "57/57 [==============================] - 88s 2s/step - loss: 0.4672 - accuracy: 0.8375 - val_loss: 0.8889 - val_accuracy: 0.7757\n",
      "Epoch 25/100\n",
      "57/57 [==============================] - 87s 2s/step - loss: 0.5165 - accuracy: 0.8272 - val_loss: 0.9321 - val_accuracy: 0.7724\n",
      "Epoch 26/100\n",
      "57/57 [==============================] - 88s 2s/step - loss: 0.4578 - accuracy: 0.8398 - val_loss: 0.9707 - val_accuracy: 0.7743\n",
      "Epoch 27/100\n",
      "57/57 [==============================] - 87s 2s/step - loss: 0.4315 - accuracy: 0.8490 - val_loss: 0.8149 - val_accuracy: 0.7997\n",
      "Epoch 28/100\n",
      "57/57 [==============================] - 87s 2s/step - loss: 0.4224 - accuracy: 0.8582 - val_loss: 0.9592 - val_accuracy: 0.7649\n",
      "Epoch 29/100\n",
      "57/57 [==============================] - 87s 2s/step - loss: 0.3999 - accuracy: 0.8681 - val_loss: 0.9615 - val_accuracy: 0.7729\n",
      "Epoch 30/100\n",
      "57/57 [==============================] - 88s 2s/step - loss: 0.4323 - accuracy: 0.8569 - val_loss: 0.8380 - val_accuracy: 0.7999\n",
      "Epoch 31/100\n",
      "57/57 [==============================] - 88s 2s/step - loss: 0.3994 - accuracy: 0.8641 - val_loss: 0.8777 - val_accuracy: 0.7779\n",
      "Epoch 32/100\n",
      "57/57 [==============================] - 88s 2s/step - loss: 0.3884 - accuracy: 0.8704 - val_loss: 1.0309 - val_accuracy: 0.7655\n",
      "Epoch 33/100\n",
      "57/57 [==============================] - 87s 2s/step - loss: 0.4035 - accuracy: 0.8608 - val_loss: 0.9882 - val_accuracy: 0.7732\n",
      "Epoch 34/100\n",
      "57/57 [==============================] - 87s 2s/step - loss: 0.4155 - accuracy: 0.8587 - val_loss: 1.1189 - val_accuracy: 0.7671\n",
      "Epoch 35/100\n",
      "57/57 [==============================] - 87s 1s/step - loss: 0.4247 - accuracy: 0.8547 - val_loss: 0.7762 - val_accuracy: 0.8071\n",
      "Epoch 36/100\n",
      "57/57 [==============================] - 87s 1s/step - loss: 0.3759 - accuracy: 0.8733 - val_loss: 1.0493 - val_accuracy: 0.7652\n",
      "Epoch 37/100\n",
      "57/57 [==============================] - 87s 2s/step - loss: 0.4072 - accuracy: 0.8589 - val_loss: 0.8158 - val_accuracy: 0.7925\n",
      "Epoch 38/100\n",
      "57/57 [==============================] - 87s 1s/step - loss: 0.3984 - accuracy: 0.8658 - val_loss: 0.9143 - val_accuracy: 0.7875\n",
      "Epoch 39/100\n",
      "57/57 [==============================] - 87s 1s/step - loss: 0.3959 - accuracy: 0.8639 - val_loss: 0.9272 - val_accuracy: 0.7748\n",
      "Epoch 40/100\n",
      "57/57 [==============================] - 87s 1s/step - loss: 0.3900 - accuracy: 0.8657 - val_loss: 1.0477 - val_accuracy: 0.7776\n",
      "Epoch 41/100\n",
      "57/57 [==============================] - 87s 1s/step - loss: 0.3578 - accuracy: 0.8753 - val_loss: 0.8257 - val_accuracy: 0.8118\n",
      "Epoch 42/100\n",
      "57/57 [==============================] - 87s 2s/step - loss: 0.3685 - accuracy: 0.8766 - val_loss: 0.8510 - val_accuracy: 0.8019\n",
      "Epoch 43/100\n",
      "57/57 [==============================] - 87s 1s/step - loss: 0.3705 - accuracy: 0.8746 - val_loss: 0.9279 - val_accuracy: 0.7930\n",
      "Epoch 44/100\n",
      "57/57 [==============================] - 87s 1s/step - loss: 0.3810 - accuracy: 0.8738 - val_loss: 0.9276 - val_accuracy: 0.7942\n",
      "Epoch 45/100\n",
      "57/57 [==============================] - 87s 1s/step - loss: 0.3568 - accuracy: 0.8774 - val_loss: 1.1577 - val_accuracy: 0.7530\n",
      "Epoch 46/100\n",
      "57/57 [==============================] - 87s 1s/step - loss: 0.3571 - accuracy: 0.8743 - val_loss: 0.8625 - val_accuracy: 0.8060\n",
      "Epoch 47/100\n",
      "57/57 [==============================] - 87s 2s/step - loss: 0.3847 - accuracy: 0.8693 - val_loss: 1.2112 - val_accuracy: 0.7525\n",
      "Epoch 48/100\n",
      "57/57 [==============================] - 87s 2s/step - loss: 0.3646 - accuracy: 0.8756 - val_loss: 0.8922 - val_accuracy: 0.7991\n",
      "Epoch 49/100\n",
      "57/57 [==============================] - 87s 1s/step - loss: 0.3451 - accuracy: 0.8838 - val_loss: 1.0641 - val_accuracy: 0.7790\n",
      "Epoch 50/100\n",
      "57/57 [==============================] - 81s 1s/step - loss: 0.3381 - accuracy: 0.8866 - val_loss: 0.9820 - val_accuracy: 0.7878\n",
      "Epoch 51/100\n",
      "57/57 [==============================] - 80s 1s/step - loss: 0.3372 - accuracy: 0.8811 - val_loss: 0.9886 - val_accuracy: 0.7881\n",
      "Epoch 52/100\n",
      "57/57 [==============================] - 80s 1s/step - loss: 0.3429 - accuracy: 0.8813 - val_loss: 0.9860 - val_accuracy: 0.7837\n",
      "Epoch 53/100\n",
      "57/57 [==============================] - 80s 1s/step - loss: 0.4007 - accuracy: 0.8663 - val_loss: 1.2767 - val_accuracy: 0.7528\n",
      "Epoch 54/100\n",
      "57/57 [==============================] - 80s 1s/step - loss: 0.3442 - accuracy: 0.8841 - val_loss: 0.8703 - val_accuracy: 0.8121\n",
      "Epoch 55/100\n",
      "57/57 [==============================] - 80s 1s/step - loss: 0.3701 - accuracy: 0.8739 - val_loss: 0.9415 - val_accuracy: 0.8013\n",
      "Epoch 56/100\n",
      "57/57 [==============================] - 80s 1s/step - loss: 0.3359 - accuracy: 0.8839 - val_loss: 0.9616 - val_accuracy: 0.8013\n",
      "Epoch 57/100\n",
      "57/57 [==============================] - 79s 1s/step - loss: 0.3506 - accuracy: 0.8824 - val_loss: 0.8818 - val_accuracy: 0.8071\n",
      "Epoch 58/100\n",
      "57/57 [==============================] - 80s 1s/step - loss: 0.3272 - accuracy: 0.8912 - val_loss: 1.0408 - val_accuracy: 0.7917\n",
      "Epoch 59/100\n",
      "57/57 [==============================] - 80s 1s/step - loss: 0.3598 - accuracy: 0.8783 - val_loss: 0.8851 - val_accuracy: 0.8079\n",
      "Epoch 60/100\n",
      "57/57 [==============================] - 80s 1s/step - loss: 0.3823 - accuracy: 0.8683 - val_loss: 1.2012 - val_accuracy: 0.7690\n",
      "Epoch 61/100\n",
      "57/57 [==============================] - 79s 1s/step - loss: 0.3240 - accuracy: 0.8883 - val_loss: 1.1086 - val_accuracy: 0.7765\n",
      "Epoch 62/100\n",
      "57/57 [==============================] - 80s 1s/step - loss: 0.3321 - accuracy: 0.8871 - val_loss: 1.0668 - val_accuracy: 0.7726\n",
      "Epoch 63/100\n",
      "57/57 [==============================] - 80s 1s/step - loss: 0.3103 - accuracy: 0.8929 - val_loss: 0.8773 - val_accuracy: 0.8217\n",
      "Epoch 64/100\n",
      "57/57 [==============================] - 80s 1s/step - loss: 0.3674 - accuracy: 0.8756 - val_loss: 0.9917 - val_accuracy: 0.8027\n",
      "Epoch 65/100\n",
      "57/57 [==============================] - 80s 1s/step - loss: 0.3232 - accuracy: 0.8911 - val_loss: 1.0621 - val_accuracy: 0.7895\n",
      "Epoch 66/100\n",
      "57/57 [==============================] - 79s 1s/step - loss: 0.3084 - accuracy: 0.8926 - val_loss: 1.1964 - val_accuracy: 0.7729\n",
      "Epoch 67/100\n",
      "57/57 [==============================] - 80s 1s/step - loss: 0.3172 - accuracy: 0.8901 - val_loss: 1.0635 - val_accuracy: 0.7928\n",
      "Epoch 68/100\n",
      "57/57 [==============================] - 79s 1s/step - loss: 0.3081 - accuracy: 0.8921 - val_loss: 1.0900 - val_accuracy: 0.7817\n",
      "Epoch 69/100\n",
      "57/57 [==============================] - 80s 1s/step - loss: 0.3367 - accuracy: 0.8844 - val_loss: 1.0294 - val_accuracy: 0.7955\n",
      "Epoch 70/100\n",
      "57/57 [==============================] - 80s 1s/step - loss: 0.3030 - accuracy: 0.8961 - val_loss: 1.0770 - val_accuracy: 0.7886\n",
      "Epoch 71/100\n",
      "57/57 [==============================] - 80s 1s/step - loss: 0.3161 - accuracy: 0.8924 - val_loss: 1.0018 - val_accuracy: 0.8030\n",
      "Epoch 72/100\n",
      "57/57 [==============================] - 80s 1s/step - loss: 0.3088 - accuracy: 0.8957 - val_loss: 1.3880 - val_accuracy: 0.7326\n",
      "Epoch 73/100\n",
      "57/57 [==============================] - 80s 1s/step - loss: 0.3147 - accuracy: 0.8905 - val_loss: 0.9600 - val_accuracy: 0.8068\n",
      "Epoch 74/100\n",
      "57/57 [==============================] - 80s 1s/step - loss: 0.3302 - accuracy: 0.8889 - val_loss: 1.1349 - val_accuracy: 0.7809\n",
      "Epoch 75/100\n",
      "57/57 [==============================] - 79s 1s/step - loss: 0.3286 - accuracy: 0.8886 - val_loss: 0.9609 - val_accuracy: 0.7939\n",
      "Epoch 76/100\n",
      "57/57 [==============================] - 80s 1s/step - loss: 0.3297 - accuracy: 0.8903 - val_loss: 1.1751 - val_accuracy: 0.7790\n",
      "Epoch 77/100\n",
      "57/57 [==============================] - 80s 1s/step - loss: 0.3182 - accuracy: 0.8910 - val_loss: 1.1278 - val_accuracy: 0.7790\n",
      "Epoch 78/100\n",
      "57/57 [==============================] - 80s 1s/step - loss: 0.3216 - accuracy: 0.8904 - val_loss: 1.6476 - val_accuracy: 0.7230\n",
      "Epoch 79/100\n",
      "57/57 [==============================] - 80s 1s/step - loss: 0.3181 - accuracy: 0.8881 - val_loss: 1.2061 - val_accuracy: 0.7721\n",
      "Epoch 80/100\n",
      "57/57 [==============================] - 80s 1s/step - loss: 0.2872 - accuracy: 0.9011 - val_loss: 1.1706 - val_accuracy: 0.7801\n",
      "Epoch 81/100\n",
      "57/57 [==============================] - 80s 1s/step - loss: 0.3195 - accuracy: 0.8898 - val_loss: 1.2884 - val_accuracy: 0.7660\n",
      "Epoch 82/100\n",
      "57/57 [==============================] - 80s 1s/step - loss: 0.3132 - accuracy: 0.8928 - val_loss: 1.1913 - val_accuracy: 0.7870\n",
      "Epoch 83/100\n",
      "57/57 [==============================] - 79s 1s/step - loss: 0.3042 - accuracy: 0.8960 - val_loss: 1.2143 - val_accuracy: 0.7842\n",
      "Epoch 84/100\n",
      "57/57 [==============================] - 80s 1s/step - loss: 0.2898 - accuracy: 0.8997 - val_loss: 1.2096 - val_accuracy: 0.7823\n",
      "Epoch 85/100\n",
      "57/57 [==============================] - 79s 1s/step - loss: 0.3183 - accuracy: 0.8913 - val_loss: 0.9668 - val_accuracy: 0.8074\n",
      "Epoch 86/100\n",
      "57/57 [==============================] - 80s 1s/step - loss: 0.3100 - accuracy: 0.8930 - val_loss: 1.2737 - val_accuracy: 0.7652\n",
      "Epoch 87/100\n",
      "57/57 [==============================] - 80s 1s/step - loss: 0.2882 - accuracy: 0.9013 - val_loss: 1.5637 - val_accuracy: 0.7486\n",
      "Epoch 88/100\n",
      "57/57 [==============================] - 80s 1s/step - loss: 0.3102 - accuracy: 0.8931 - val_loss: 0.9739 - val_accuracy: 0.8030\n",
      "Epoch 89/100\n",
      "57/57 [==============================] - 79s 1s/step - loss: 0.3174 - accuracy: 0.8899 - val_loss: 0.9900 - val_accuracy: 0.8085\n",
      "Epoch 90/100\n",
      "57/57 [==============================] - 80s 1s/step - loss: 0.2974 - accuracy: 0.8985 - val_loss: 1.0474 - val_accuracy: 0.8091\n",
      "Epoch 91/100\n",
      "57/57 [==============================] - 79s 1s/step - loss: 0.3190 - accuracy: 0.8864 - val_loss: 1.0727 - val_accuracy: 0.8013\n",
      "Epoch 92/100\n",
      "57/57 [==============================] - 80s 1s/step - loss: 0.2845 - accuracy: 0.9002 - val_loss: 1.1327 - val_accuracy: 0.7917\n",
      "Epoch 93/100\n",
      "57/57 [==============================] - 80s 1s/step - loss: 0.2963 - accuracy: 0.8989 - val_loss: 1.4348 - val_accuracy: 0.7646\n",
      "Epoch 94/100\n",
      "57/57 [==============================] - 80s 1s/step - loss: 0.2844 - accuracy: 0.9035 - val_loss: 1.4842 - val_accuracy: 0.7514\n",
      "Epoch 95/100\n",
      "57/57 [==============================] - 80s 1s/step - loss: 0.2942 - accuracy: 0.8990 - val_loss: 1.2688 - val_accuracy: 0.7718\n",
      "Epoch 96/100\n",
      "57/57 [==============================] - 79s 1s/step - loss: 0.2646 - accuracy: 0.9105 - val_loss: 0.9546 - val_accuracy: 0.8148\n",
      "Epoch 97/100\n",
      "57/57 [==============================] - 80s 1s/step - loss: 0.3594 - accuracy: 0.8813 - val_loss: 1.2182 - val_accuracy: 0.7815\n",
      "Epoch 98/100\n",
      "57/57 [==============================] - 80s 1s/step - loss: 0.2929 - accuracy: 0.8986 - val_loss: 1.2852 - val_accuracy: 0.7735\n",
      "Epoch 99/100\n",
      "57/57 [==============================] - 79s 1s/step - loss: 0.2881 - accuracy: 0.9017 - val_loss: 1.5033 - val_accuracy: 0.7530\n",
      "Epoch 100/100\n",
      "57/57 [==============================] - 80s 1s/step - loss: 0.2877 - accuracy: 0.9003 - val_loss: 1.2714 - val_accuracy: 0.7850\n"
     ]
    },
    {
     "data": {
      "text/plain": [
       "<bound method Response.json of <Response [200]>>"
      ]
     },
     "execution_count": 33,
     "metadata": {},
     "output_type": "execute_result"
    }
   ],
   "source": [
    "epochs = 100\n",
    "history = model.fit(\n",
    "  train_ds,\n",
    "  validation_data=val_ds,\n",
    "  epochs=epochs\n",
    ")\n",
    "\n",
    "telegram_bot_sendtext('done')"
   ]
  },
  {
   "cell_type": "code",
   "execution_count": 34,
   "metadata": {},
   "outputs": [
    {
     "data": {
      "image/png": "[encoded data removed]",
      "text/plain": [
       "<Figure size 1440x576 with 2 Axes>"
      ]
     },
     "metadata": {
      "needs_background": "light"
     },
     "output_type": "display_data"
    }
   ],
   "source": [
    "#This cell assigns the accuracy, val accuracy, loss, and val loss to variables\n",
    "#for plotting\n",
    "#Matplotlib is used to plot the loss and accuracy curves on the y axis and epochs on the x axis\n",
    "\n",
    "#SAVE THESE RESULTS, DROPOUT = 0.4\n",
    "\n",
    "\n",
    "\n",
    "acc = history.history['accuracy']\n",
    "val_acc = history.history['val_accuracy']\n",
    "\n",
    "loss = history.history['loss']\n",
    "val_loss = history.history['val_loss']\n",
    "\n",
    "epochs_range = range(epochs)\n",
    "\n",
    "plt.figure(figsize=(20, 8))\n",
    "plt.subplot(1, 2, 1)\n",
    "plt.plot(epochs_range, acc, label='Training Accuracy')\n",
    "plt.plot(epochs_range, val_acc, label='Validation Accuracy')\n",
    "plt.legend(loc='lower right')\n",
    "plt.title('Training and Validation Accuracy')\n",
    "\n",
    "plt.subplot(1, 2, 2)\n",
    "plt.plot(epochs_range, loss, label='Training Loss')\n",
    "plt.plot(epochs_range, val_loss, label='Validation Loss')\n",
    "plt.legend(loc='upper right')\n",
    "plt.title('Training and Validation Loss')\n",
    "plt.show()\n",
    "\n",
    "\n",
    "\n",
    "\n",
    "\n",
    "\n",
    "\n",
    "\n",
    "#SAVE THESE RESULTS, DROPOUT = 0.4"
   ]
  },
  {
   "cell_type": "code",
   "execution_count": null,
   "metadata": {},
   "outputs": [],
   "source": []
  }
 ],
 "metadata": {
  "environment": {
   "name": "tf2-gpu.2-4.m65",
   "type": "gcloud",
   "uri": "gcr.io/deeplearning-platform-release/tf2-gpu.2-4:m65"
  },
  "kernelspec": {
   "display_name": "Python 3",
   "language": "python",
   "name": "python3"
  },
  "language_info": {
   "codemirror_mode": {
    "name": "ipython",
    "version": 3
   },
   "file_extension": ".py",
   "mimetype": "text/x-python",
   "name": "python",
   "nbconvert_exporter": "python",
   "pygments_lexer": "ipython3",
   "version": "3.8.5"
  }
 },
 "nbformat": 4,
 "nbformat_minor": 5
}
